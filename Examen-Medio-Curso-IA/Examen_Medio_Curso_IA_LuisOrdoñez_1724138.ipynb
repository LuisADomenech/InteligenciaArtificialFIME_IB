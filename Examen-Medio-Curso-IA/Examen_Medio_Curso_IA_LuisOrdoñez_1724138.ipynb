{
  "nbformat": 4,
  "nbformat_minor": 0,
  "metadata": {
    "colab": {
      "name": "Examen-Medio-Curso-IA-LuisOrdoñez-1724138.ipynb",
      "provenance": []
    },
    "kernelspec": {
      "name": "python3",
      "display_name": "Python 3"
    },
    "language_info": {
      "name": "python"
    }
  },
  "cells": [
    {
      "cell_type": "markdown",
      "metadata": {
        "id": "wDK_9Ai15M9e"
      },
      "source": [
        "# Exámen Medio Curso IA\n",
        "Luis Alejandro Ordoñez Domenech\n",
        "\n",
        "Matrícula: 1724138\n",
        "\n",
        "Día y Hora: Martes N4 "
      ]
    },
    {
      "cell_type": "code",
      "metadata": {
        "colab": {
          "base_uri": "https://localhost:8080/"
        },
        "id": "5wqFgVcj5KmQ",
        "outputId": "f1f67a32-6e60-4509-b98c-1ecadad61a03"
      },
      "source": [
        "numero = int (input(\"Ingresa un numero: \")) #El usuario ingresa un numero aleatorio\n",
        "n = numero\n",
        "suma = 0\n",
        "while n!=0: #el bucle se realiza mientras n es diferente a 0\n",
        "  suma+=n #se suman todos los numeros que corresponden a n dentro del bucle\n",
        "  n=n-1\n",
        "print(\"La suma de todos los numeros enteros de 1 a\" ,numero,\"es:\",suma)"
      ],
      "execution_count": 16,
      "outputs": [
        {
          "output_type": "stream",
          "name": "stdout",
          "text": [
            "Ingresa un numero: 4\n",
            "La suma de todos los numeros enteros de 1 a 4 es: 10\n"
          ]
        }
      ]
    },
    {
      "cell_type": "code",
      "metadata": {
        "colab": {
          "base_uri": "https://localhost:8080/"
        },
        "id": "aqZcAIpj_CO-",
        "outputId": "4e61ec83-f88d-459c-977e-e6e0a61d4ba3"
      },
      "source": [
        "ini=6\n",
        "fin=31\n",
        "lista=[]\n",
        "\n",
        "while ini!=fin: #bucle que mientras el número inicial sea diferente al final, se agregan esos numeros a la lista\n",
        "    lista.append(ini)\n",
        "    ini=ini+1\n",
        "if ini==fin: #si el número inicial y el final son iguales, se agrega el número final a la lista\n",
        "    lista.append(fin)\n",
        "    print(lista)\n",
        "    \n",
        "for i in lista: #bucle para imprimir solo los numeros pares de la lista\n",
        "    if i % 2 == 0:\n",
        "        print(\"Par\", i)"
      ],
      "execution_count": 12,
      "outputs": [
        {
          "output_type": "stream",
          "name": "stdout",
          "text": [
            "[6, 7, 8, 9, 10, 11, 12, 13, 14, 15, 16, 17, 18, 19, 20, 21, 22, 23, 24, 25, 26, 27, 28, 29, 30, 31]\n",
            "Par 6\n",
            "Par 8\n",
            "Par 10\n",
            "Par 12\n",
            "Par 14\n",
            "Par 16\n",
            "Par 18\n",
            "Par 20\n",
            "Par 22\n",
            "Par 24\n",
            "Par 26\n",
            "Par 28\n",
            "Par 30\n"
          ]
        }
      ]
    }
  ]
}