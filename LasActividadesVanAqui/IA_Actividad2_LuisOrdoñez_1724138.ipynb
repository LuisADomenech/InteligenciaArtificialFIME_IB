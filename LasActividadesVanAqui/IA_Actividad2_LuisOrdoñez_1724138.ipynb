{
  "nbformat": 4,
  "nbformat_minor": 0,
  "metadata": {
    "colab": {
      "name": "\"IA_Actividad2_LuisOrdoñez_1724138\".ipynb",
      "provenance": [],
      "collapsed_sections": [],
      "toc_visible": true
    },
    "kernelspec": {
      "name": "python3",
      "display_name": "Python 3"
    },
    "language_info": {
      "name": "python"
    }
  },
  "cells": [
    {
      "cell_type": "markdown",
      "metadata": {
        "id": "3LYk59Ttezpa"
      },
      "source": [
        "# Actividad 2.- Ejercicios Introducción Python\n",
        "\n",
        "Luis Alejandro Ordoñez Domenech \n",
        "\n",
        "Matrícula: 1724138\n",
        "\n",
        "Hora: Martes N4"
      ]
    },
    {
      "cell_type": "markdown",
      "metadata": {
        "id": "g4x5XovphdkK"
      },
      "source": [
        "# Ejercicio 1\n",
        "\n",
        "Crear un programa que pregunte al usuario por su nombre, edad, una frase favorita y autor de la frase favorita. "
      ]
    },
    {
      "cell_type": "code",
      "metadata": {
        "id": "XVOMH5Oyhobs",
        "colab": {
          "base_uri": "https://localhost:8080/"
        },
        "outputId": "17070e67-1f48-43ea-8ae1-b1e893b4c2ef"
      },
      "source": [
        "\"\"\"se crean variables con cadenas de caracteres, y una de entero para la edad,\n",
        "la variable saludo es una cadena de caracteres, que imprime el saludo para el usuario\"\"\"\n",
        "\n",
        "saludo = str(\"\"\"Bienvenido, en este ejercicio necesitamos tu nombre, edad, tu frase favorita y su autor, \n",
        "escribe por favor:\"\"\")\n",
        "\n",
        "print(saludo) \n",
        "#En esta linea se imprime el saludo, es una variable tipo cadena de caracteres\n",
        "\n",
        "nombre = str(input(\"Tu nombre:\")) \n",
        "#En esta linea le pide al usuario su nombre, es una variable tipo cadena de caracteres \n",
        "\n",
        "edad = int(input(\"Tu edad:\")) \n",
        "#En esta linea le pide al usuario su edad, es una variable tipo entero\n",
        "\n",
        "frase_favorita = str(input(\"Tu frase favorita:\")) \n",
        "#En esta linea le pide al usuario su frase favorita, es una variable tipo cadena de caracteres\n",
        "\n",
        "autor_frase = str(input(\"El autor de la frase:\")) \n",
        "#En esta linea le pide al usuario el autor de su frase favorita, es una variable tipo cadena de caracteres\n",
        "\n",
        "print(\"\\nTu nombre es:\",nombre,\"\\nTu edad es:\",edad,\"\\nTu frase favorita es:\",\n",
        "     frase_favorita,\"\\nEl autor de tu frase favorita es:\",autor_frase)\n",
        "#En esta linea se imprime las respuestas, usando una concatenación de variables."
      ],
      "execution_count": 13,
      "outputs": [
        {
          "output_type": "stream",
          "name": "stdout",
          "text": [
            "Bienvenido, en este ejercicio necesitamos tu nombre, edad, tu frase favorita y su autor, \n",
            "escribe por favor:\n",
            "Tu nombre:Luis\n",
            "Tu edad:22\n",
            "Tu frase favorita:Do or do not, there is no try\n",
            "El autor de la frase:Maestro Yoda\n",
            "\n",
            "Tu nombre es: Luis \n",
            "Tu edad es: 22 \n",
            "Tu frase favorita es: Do or do not, there is no try \n",
            "El autor de tu frase favorita es: Maestro Yoda\n"
          ]
        }
      ]
    },
    {
      "cell_type": "markdown",
      "metadata": {
        "id": "yOvRbLKPxd_k"
      },
      "source": [
        "# Ejercicio 2\n",
        "Crear un programa que le pida al usuario capturar dos números enteros y dos números flotantes.\n",
        "\n",
        "Después, realizará la suma, resta, multiplicación y división, de ambos pares de números."
      ]
    },
    {
      "cell_type": "code",
      "metadata": {
        "id": "7zYJOHfnxrbw",
        "colab": {
          "base_uri": "https://localhost:8080/"
        },
        "outputId": "afe54ab2-7a0a-4418-a5f0-3216b137aae0"
      },
      "source": [
        "#Empieza el código con un saludo, creando una variable tipo cadena de caracteres.\n",
        "saludo = str(\"\"\"En este ejercicio se necesitan dos números enteros y dos números flotantes.\n",
        "\\nSe van a realizar las operaciones de suma, resta, multiplicación y división entre los \n",
        "dos números enteros y los dos flotantes.\n",
        "\\nIngresa por favor:\\n\"\"\")\n",
        "print(saludo) #Se imprime la variable saludo.\n",
        "\n",
        "\"\"\"Se le pide al usuario dos números enteros y dos flotantes, se crean variables para los números\n",
        "enteros y flotantes y se almacena el número\"\"\"\n",
        "\n",
        "int_1 = int(input(\"Número entero 1: \"))\n",
        "int_2 = int(input(\"Número entero 2: \"))\n",
        "float_1 = float(input(\"Número flotante 1: \"))\n",
        "float_2 = float(input(\"Número flotante 2: \"))\n",
        "\n",
        "\"\"\"Se realizan las operaciones de números enteros, creando variables de tipo entero y almacenando el resultado\n",
        "de la operación\"\"\"\n",
        "\n",
        "sum_int = int(int_1 + int_2) #suma de números enteros\n",
        "res_int = int(int_1 - int_2) #resta de números enteros\n",
        "mult_int = int(int_1 * int_2) #multiplicación de números enteros\n",
        "div_int = int(int_1 / int_2) #división de números enteros\n",
        "\n",
        "\"\"\"Se realizan las operaciones de números enteros, creando variables de tipo entero y almacenando el resultado\n",
        "de la operación\"\"\"\n",
        "\n",
        "sum_float = float(float_1 + float_2)\n",
        "res_float = float(float_1 - float_2)\n",
        "mult_float = float(float_1 * float_2)\n",
        "div_float = float(float_1 / float_2)\n",
        "\n",
        "print(\"\\nLos resultados de las operaciones entre enteros son:\\n\",\"\\nSuma de ambos enteros:\",sum_int,\n",
        "      \"\\nResta de ambos enteros:\",res_int,\"\\nMultiplicación de ambos enteros:\"\n",
        "      ,mult_int,\"\\nDivisión de ambos enteros:\",div_int)\n",
        "#En esta linea se imprimen las variables de números enteros, usando una concatenación de variables\n",
        "\n",
        "print(\"\\nLos resultados de las operaciones entre flotantes son:\\n\",\"\\nSuma de ambos flotantes:\",sum_float,\n",
        "      \"\\nResta de ambos flotantes:\",res_float,\"\\nMultiplicación de ambos flotantes:\"\n",
        "      ,mult_float,\"\\nDivisión de ambos flotantes:\",div_float)\n",
        "#En esta linea se imprimen las variables de números flotantes, usando una concatenación de variables\n",
        "\n",
        "\n",
        "\n"
      ],
      "execution_count": 9,
      "outputs": [
        {
          "output_type": "stream",
          "name": "stdout",
          "text": [
            "En este ejercicio se necesitan dos números enteros y dos números flotantes.\n",
            "\n",
            "Se van a realizar las operaciones de suma, resta, multiplicación y división entre los \n",
            "dos números enteros y los dos flotantes.\n",
            "\n",
            "Ingresa por favor:\n",
            "\n",
            "Número entero 1: 2\n",
            "Número entero 2: 1\n",
            "Número flotante 1: 4.3\n",
            "Número flotante 2: 3.2\n",
            "\n",
            "Los resultados de las operaciones entre enteros son:\n",
            " \n",
            "Suma de ambos enteros: 3 \n",
            "Resta de ambos enteros: 1 \n",
            "Multiplicación de ambos enteros: 2 \n",
            "División de ambos enteros: 2\n",
            "\n",
            "Los resultados de las operaciones entre flotantes son:\n",
            " \n",
            "Suma de ambos flotantes: 7.5 \n",
            "Resta de ambos flotantes: 1.0999999999999996 \n",
            "Multiplicación de ambos flotantes: 13.76 \n",
            "División de ambos flotantes: 1.3437499999999998\n"
          ]
        }
      ]
    },
    {
      "cell_type": "markdown",
      "metadata": {
        "id": "gtcURk8slUtp"
      },
      "source": [
        "# Ejercicio 3\n",
        "\n",
        "Crear un programa que evalúe dos expresiones lógicas con `and`, dos con `or` y dos con `not`."
      ]
    },
    {
      "cell_type": "code",
      "metadata": {
        "colab": {
          "base_uri": "https://localhost:8080/"
        },
        "id": "ysPGVXDajNkQ",
        "outputId": "683a7ce8-6df5-4f6b-edc0-7d8b485ded09"
      },
      "source": [
        "\"\"\"En este ejercicio se le pide al usuario tres números para evaluar las expresiones\n",
        "lógicas\"\"\"\n",
        "saludo = print(str(\"\"\"Bienvenido, con este código, se van a comparar tres números entre si,\n",
        "piensa en tres números y escribelos\"\"\")) #se inicia con un saludo y le pide al usuario una instrucción\n",
        "numero1 = int(input(\"\\nIngresa el número 1:\")) #le pide al usuario un numero y es tipo entero\n",
        "numero2 = int(input(\"\\nIngresa el número 2:\")) #le pide al usuario otro numero y es tipo entero\n",
        "numero3 = int(input(\"\\nIngresa el número 3:\")) #le pide al usuario un último número y es entero\n",
        "exp_1 = (numero1 > numero2 and numero2 > numero3) \n",
        "exp_2 = (numero1 > numero3 or numero3 > numero2)\n",
        "exp_3 = (not numero1 > numero2 and not numero2 > numero3)\n",
        "\n",
        "print(\"\"\"\\nEn esta expresion, ambas expresiones tienen que ser verdaderas para que la respuesta sea verdadera:\"\"\")\n",
        "print(numero1,\"es mayor que\",numero2,\"y\",numero2,\"es mayor que\",numero3,\n",
        "      \"¿Es correcto?\",exp_1)\n",
        "print(\"\"\"\\nEn esta expresion, al menos una expresion tiene que ser verdadera para que la respuesta sea verdadera:\"\"\")\n",
        "print(numero1,\"es mayor que\",numero3,\"o\",numero3,\"es mayor que\",numero2,\n",
        "      \"¿Es correcto?\",exp_2)\n",
        "print(\"\"\"\\nEn esta expresion, es lo contrario a la primer respuesta, si la primer respuesta\n",
        "es verdadera, en este caso seria falsa y viceversa\"\"\")\n",
        "print(numero1,\"es mayor que\",numero2,\"y\",numero2,\"es mayor que\",numero3,\n",
        "      \"¿La respuesta contraria cual sería?\",exp_3)\n"
      ],
      "execution_count": 8,
      "outputs": [
        {
          "output_type": "stream",
          "name": "stdout",
          "text": [
            "Bienvenido, con este código, se van a comparar tres números entre si,\n",
            "piensa en tres números y escribelos\n",
            "\n",
            "Ingresa el número 1:4\n",
            "\n",
            "Ingresa el número 2:2\n",
            "\n",
            "Ingresa el número 3:1\n",
            "\n",
            "En esta expresion, ambas expresiones tienen que ser verdaderas para que la respuesta sea verdadera:\n",
            "4 es mayor que 2 y 2 es mayor que 1 ¿Es correcto? True\n",
            "\n",
            "En esta expresion, al menos una expresion tiene que ser verdadera para que la respuesta sea verdadera:\n",
            "4 es mayor que 1 o 1 es mayor que 2 ¿Es correcto? True\n",
            "\n",
            "En esta expresion, es lo contrario a la primer respuesta, si la primer respuesta\n",
            "es verdadera, en este caso seria falsa y viceversa\n",
            "4 es mayor que 2 y 2 es mayor que 1 ¿La respuesta contraria cual sería? False\n"
          ]
        }
      ]
    }
  ]
}