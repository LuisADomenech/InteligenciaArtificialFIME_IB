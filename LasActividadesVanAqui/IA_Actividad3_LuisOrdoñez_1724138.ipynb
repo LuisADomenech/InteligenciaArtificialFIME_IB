{
  "nbformat": 4,
  "nbformat_minor": 0,
  "metadata": {
    "colab": {
      "name": "\"IA_Actividad3_LuisOrdoñez_1724138\".ipynb",
      "provenance": [],
      "collapsed_sections": []
    },
    "kernelspec": {
      "name": "python3",
      "display_name": "Python 3"
    },
    "language_info": {
      "name": "python"
    }
  },
  "cells": [
    {
      "cell_type": "markdown",
      "metadata": {
        "id": "3LYk59Ttezpa"
      },
      "source": [
        "# Actividad 3.- Ejercicios Introducción Python, 2da parte\n",
        "\n",
        "Luis Alejandro Ordoñez Domenech \n",
        "\n",
        "Matrícula: 1724138\n",
        "\n",
        "Hora: Martes N4"
      ]
    },
    {
      "cell_type": "markdown",
      "metadata": {
        "id": "27RwQPv2v1qx"
      },
      "source": [
        "#Ejercicio 1\n",
        "\n",
        "1.1 Piensa en 7 comidas diferente que te gusten. Implementa un programa que pregunte por las 7 comidas, las almacene en una lista y que posteriermente imprima cada una de ellas utilizando uno de los ciclos comentados en clase. "
      ]
    },
    {
      "cell_type": "code",
      "metadata": {
        "colab": {
          "base_uri": "https://localhost:8080/"
        },
        "id": "NWON4L4vvdew",
        "outputId": "34cf1968-e7f7-465c-c473-e0ae8cc20790"
      },
      "source": [
        "print(\"Hola ingresa 7 de tus comidas favoritas:\") #mensaje introductorio al ejemplo\n",
        "lista = [] #lista donde se almacenarán las comidas del usuario\n",
        "x = 7\n",
        "for i in range(x): #bucle for para agregar las comidas favoritas del usuario\n",
        "  comida = input(\"Ingresa tu comida favorita:\")\n",
        "  lista.append(comida)\n",
        "for x in (lista):\n",
        "  print(\"\\n\",x) #imprime la lista completa\n",
        "\n"
      ],
      "execution_count": null,
      "outputs": [
        {
          "output_type": "stream",
          "name": "stdout",
          "text": [
            "Hola ingresa 7 de tus comidas favoritas:\n",
            "Ingresa tu comida favorita:lasagna\n",
            "Ingresa tu comida favorita:pizza\n",
            "Ingresa tu comida favorita:boneless\n",
            "Ingresa tu comida favorita:pasta\n",
            "Ingresa tu comida favorita:carne\n",
            "Ingresa tu comida favorita:pollo\n",
            "Ingresa tu comida favorita:costillas\n",
            "\n",
            " lasagna\n",
            "\n",
            " pizza\n",
            "\n",
            " boneless\n",
            "\n",
            " pasta\n",
            "\n",
            " carne\n",
            "\n",
            " pollo\n",
            "\n",
            " costillas\n"
          ]
        }
      ]
    },
    {
      "cell_type": "markdown",
      "metadata": {
        "id": "_Inyhj3Ogt3e"
      },
      "source": [
        "\n",
        "1.2 Modifica el ejercicio 1.1 para que imprima cada una de las comidas favoritas junto con una oracición inicial: \"Una de mis comidas favoritas es [comida1]\".  "
      ]
    },
    {
      "cell_type": "code",
      "metadata": {
        "colab": {
          "base_uri": "https://localhost:8080/"
        },
        "id": "BR2-Q9Jvgtdu",
        "outputId": "fff8e78e-16fb-4e2b-93f7-98eb4dfa24e9"
      },
      "source": [
        "print(\"Hola ingresa 7 de tus comidas favoritas:\")\n",
        "lista = [] #aqui se almacenan las 7 comidas del usuario\n",
        "x = 7\n",
        "for i in range(x):\n",
        "  comida = input(\"\\nIngresa tu comida favorita:\")\n",
        "  lista.append(comida) #esta linea sirve para guardar en la lista las comidas de usuario\n",
        "for i in range(x):\n",
        "  print(\"\\nUna de mis comidas favoritas es:\",lista[i])\n",
        "\n"
      ],
      "execution_count": null,
      "outputs": [
        {
          "output_type": "stream",
          "name": "stdout",
          "text": [
            "Hola ingresa 7 de tus comidas favoritas:\n",
            "\n",
            "Ingresa tu comida favorita:lasagna\n",
            "\n",
            "Ingresa tu comida favorita:pizza\n",
            "\n",
            "Ingresa tu comida favorita:pasta\n",
            "\n",
            "Ingresa tu comida favorita:boneless\n",
            "\n",
            "Ingresa tu comida favorita:pollo\n",
            "\n",
            "Ingresa tu comida favorita:carne\n",
            "\n",
            "Ingresa tu comida favorita:costillas\n",
            "\n",
            "Una de mis comidas favoritas es: lasagna\n",
            "\n",
            "Una de mis comidas favoritas es: pizza\n",
            "\n",
            "Una de mis comidas favoritas es: pasta\n",
            "\n",
            "Una de mis comidas favoritas es: boneless\n",
            "\n",
            "Una de mis comidas favoritas es: pollo\n",
            "\n",
            "Una de mis comidas favoritas es: carne\n",
            "\n",
            "Una de mis comidas favoritas es: costillas\n"
          ]
        }
      ]
    },
    {
      "cell_type": "markdown",
      "metadata": {
        "id": "r8jjL4UawOF3"
      },
      "source": [
        "#Ejercicio 2\n",
        "\n",
        "Crear un juego de piedra, papel o tijera de dos jugadores. El programa preguntará por la opción del jugador 1 y la opción del jugador 2 y dará como resultado quien ganó el juego."
      ]
    },
    {
      "cell_type": "code",
      "metadata": {
        "colab": {
          "base_uri": "https://localhost:8080/"
        },
        "id": "5C56FzUnwg3e",
        "outputId": "d520c15f-179b-4f09-a481-50f033f48598"
      },
      "source": [
        "saludo = str(print(\"Bienvenido, se va a jugar piedra papel o tijeras, piensa tu elección e introducela\"))\n",
        "opciones=[\"piedra\",\"papel\",\"tijeras\"]\n",
        "print(\"Estas son las opciones para elegir\",opciones)\n",
        "jugador1 = str (input(\"Ingresa tu eleccion jugador 1:\")) \n",
        "jugador2 = str (input(\"Ingresa tu eleccion jugador 2:\"))\n",
        "caso1 = (jugador1 == \"piedra\") and (jugador2 == \"tijeras\") #En estas lineas se ven reflejados todos los escenarios posibles\n",
        "caso2 = (jugador1 == \"tijeras\") and (jugador2 ==  \"papel\")\n",
        "caso3 = (jugador1 == \"papel\") and (jugador2 == \"piedra\")\n",
        "caso4 = (jugador2 == \"piedra\") and (jugador1 == \"tijeras\") \n",
        "caso5 = (jugador2 == \"tijeras\") and (jugador1 ==  \"papel\")\n",
        "caso6 = (jugador2 == \"papel\") and (jugador1 == \"piedra\")\n",
        "if (jugador1 == jugador2): #en esta linea se pone la opcion de empate, en el caso ambos jugadores escriban la misma opcion\n",
        "  print(\"empate\")\n",
        "if (jugador1 and jugador2) not in opciones: #esta linea sirve para imprimir un mensaje en caso se escriba una opción diferente\n",
        "  print(\"opciones incorrectas\")\n",
        "\n",
        "if (caso1):\n",
        "  print(\"Gana jugador 1\")\n",
        "elif (caso2):\n",
        "  print(\"Gana jugador 1\")\n",
        "elif (caso3):\n",
        "  print(\"Gana jugador 1\")\n",
        "elif (caso4):\n",
        "  print(\"Gana jugador 2\")\n",
        "elif (caso5):\n",
        "  print(\"Gana jugador 2\")\n",
        "elif (caso6):\n",
        "  print(\"Gana jugador 2\")\n"
      ],
      "execution_count": null,
      "outputs": [
        {
          "output_type": "stream",
          "name": "stdout",
          "text": [
            "Bienvenido, se va a jugar piedra papel o tijeras, piensa tu elección e introducela\n",
            "Estas son las opciones para elegir ['piedra', 'papel', 'tijeras']\n",
            "Ingresa tu eleccion jugador 1:piedra\n",
            "Ingresa tu eleccion jugador 2:papel\n",
            "Gana jugador 2\n"
          ]
        }
      ]
    },
    {
      "cell_type": "markdown",
      "metadata": {
        "id": "IzFgYAixwUyA"
      },
      "source": [
        "#Ejercicio 3\n",
        "\n",
        "Implementar un programa que imprima un patron."
      ]
    },
    {
      "cell_type": "code",
      "metadata": {
        "colab": {
          "base_uri": "https://localhost:8080/"
        },
        "id": "kMTVi2UMwgM_",
        "outputId": "5e46aa1c-ba7f-48f8-ff73-6c69874d49d8"
      },
      "source": [
        "#en esta parte del codigo empieza el patron de 6 y decrece hasta 1\n",
        "for i in range(6,0,-1): #empieza el bucle for de 6 hasta el 0 y va decreciendo a razon de -1\n",
        "  for j in range(1,i+1): #empieza en 1 hasta i+1\n",
        "    print(j,end=\" \") #imprime j e imprime un espacio\n",
        "  print(\" \") #imprime un espacio\n",
        "#en esta parte el codigo empieza en 1 y aumenta hasta 6\n",
        "for i in range (1,7): #empieza el bucle en 1 y termina en el 7\n",
        "  for j in range (1,i+1): #empieza en 1 y termina en i+1\n",
        "    print(j,end=\" \")\n",
        "  print(\" \")\n"
      ],
      "execution_count": null,
      "outputs": [
        {
          "output_type": "stream",
          "name": "stdout",
          "text": [
            "1 2 3 4 5 6  \n",
            "1 2 3 4 5  \n",
            "1 2 3 4  \n",
            "1 2 3  \n",
            "1 2  \n",
            "1  \n",
            "1  \n",
            "1 2  \n",
            "1 2 3  \n",
            "1 2 3 4  \n",
            "1 2 3 4 5  \n",
            "1 2 3 4 5 6  \n"
          ]
        }
      ]
    }
  ]
}